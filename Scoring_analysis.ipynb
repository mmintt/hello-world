{
  "nbformat": 4,
  "nbformat_minor": 0,
  "metadata": {
    "colab": {
      "name": "Scoring_analysis.ipynb",
      "provenance": [],
      "authorship_tag": "ABX9TyM4dOWBAJPhwbGuGKe96K1a",
      "include_colab_link": true
    },
    "kernelspec": {
      "name": "python3",
      "display_name": "Python 3"
    }
  },
  "cells": [
    {
      "cell_type": "markdown",
      "metadata": {
        "id": "view-in-github",
        "colab_type": "text"
      },
      "source": [
        "<a href=\"https://colab.research.google.com/github/mmintt/hello-world/blob/master/Scoring_analysis.ipynb\" target=\"_parent\"><img src=\"https://colab.research.google.com/assets/colab-badge.svg\" alt=\"Open In Colab\"/></a>"
      ]
    },
    {
      "cell_type": "code",
      "metadata": {
        "id": "6ck581FrOCnk",
        "colab_type": "code",
        "colab": {
          "base_uri": "https://localhost:8080/",
          "height": 131
        },
        "outputId": "d1004cc8-c3fa-410b-a446-aff6c2c5033f"
      },
      "source": [
        "import math\n",
        "\n",
        "d_straight = 609.6 #m\n",
        "theta_1lap = 4*math.pi() #rad\n",
        "g = 9.81 #m/s^2\n",
        "\n",
        "b_wing\n",
        "AR\n",
        "cd_wing\n",
        "S_not\n",
        "cd_not\n",
        "\n",
        "n_con = m_allcon / m_1con\n",
        "\n",
        "S_wing = (b**2)/AR\n",
        "v2_cruise = ((2*n_p*n_m*P_max)/(rho*((S_not*cd_not)+(S_wing*cd_wing))))**(1/3)\n",
        "turn_rate2 = (g*math.sqrt((A2**2)-1) / v2_cruise\n",
        "t2_lap = (d_straight/v2_cruise) + (theta_1lap/turn_rate2)\n",
        "t2_3lap = 3*t2_lap\n",
        "\n",
        "\n",
        "\n",
        "\n",
        "M1 = 1\n",
        "M2 = 1 + (n_con/t2_3lap)\n",
        "M3 = 2 + (n_lap * l_sen * W_sen)\n",
        "\n",
        "\n",
        "total = report*(M1 + M2 + M3 + GM)"
      ],
      "execution_count": 1,
      "outputs": [
        {
          "output_type": "error",
          "ename": "SyntaxError",
          "evalue": "ignored",
          "traceback": [
            "\u001b[0;36m  File \u001b[0;32m\"<ipython-input-1-07ead46dacb9>\"\u001b[0;36m, line \u001b[0;32m1\u001b[0m\n\u001b[0;31m    inport math\u001b[0m\n\u001b[0m              ^\u001b[0m\n\u001b[0;31mSyntaxError\u001b[0m\u001b[0;31m:\u001b[0m invalid syntax\n"
          ]
        }
      ]
    },
    {
      "cell_type": "code",
      "metadata": {
        "id": "2t2KKvwDRUG-",
        "colab_type": "code",
        "colab": {}
      },
      "source": [
        ""
      ],
      "execution_count": null,
      "outputs": []
    }
  ]
}